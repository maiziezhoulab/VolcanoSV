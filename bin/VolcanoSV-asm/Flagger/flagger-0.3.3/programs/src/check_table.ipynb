{
 "cells": [
  {
   "cell_type": "code",
   "execution_count": 26,
   "metadata": {},
   "outputs": [],
   "source": [
    "pb_name_file = \"/maiziezhou_lab5/CanLuo/long_reads_project/Paper_Revision/NC_2024_03_22-06_10/SD_Recovery/ONT_L1/Flagger_FinalBED/PBs_Given_SD_Prior/SD_pb_names.txt\"\n",
    "table_dir = \"/maiziezhou_lab5/CanLuo/long_reads_project/Paper_Revision/NC_2024_03_22-06_10/SD_Recovery/ONT_L1/VolcanoSV_Flye/Run1/cromwell-executions/FlaggerEndToEndNoVariantCallingNoRefNoSecphase/b5cb37f1-d050-4ecc-852e-c829545ff5f2/call-flagger/runFlagger/c05cbec1-f952-4b8b-9aab-0398e545b4e2/call-pdfGenerator/execution/tables\"\n",
    "with open(pb_name_file,'r') as f:\n",
    "\tpbs = set(f.read().split('\\n')[:-1])\n",
    "\n",
    "import os, glob \n",
    "import pandas as pd\n",
    "\n",
    "dfs = []\n",
    "for in_file in glob.glob(table_dir+\"/*table\"):\n",
    "\tpb = '_'.join(os.path.basename(in_file).split('.')[-2].split('_')[:-4])\n",
    "\tif pb in pbs:\n",
    "\t\tdf = pd.read_csv(in_file, sep = '\\t')\n",
    "\t\tdfs.append(df)"
   ]
  },
  {
   "cell_type": "code",
   "execution_count": 6,
   "metadata": {},
   "outputs": [],
   "source": [
    "import numpy as np"
   ]
  },
  {
   "cell_type": "code",
   "execution_count": 32,
   "metadata": {},
   "outputs": [],
   "source": [
    "m = []\n",
    "\n",
    "for df in dfs:\n",
    "\ta = df['freq']\n",
    "\tb = df['fit']\n",
    "\tc = df['fit'] * df['collapsed']\n",
    "\tif max(c) > 0:\n",
    "\t\tm.append(np.argmax(c))\n"
   ]
  },
  {
   "cell_type": "code",
   "execution_count": 34,
   "metadata": {},
   "outputs": [
    {
     "data": {
      "text/plain": [
       "[32,\n",
       " 26,\n",
       " 23,\n",
       " 23,\n",
       " 49,\n",
       " 22,\n",
       " 28,\n",
       " 27,\n",
       " 33,\n",
       " 29,\n",
       " 24,\n",
       " 25,\n",
       " 26,\n",
       " 29,\n",
       " 25,\n",
       " 31,\n",
       " 35,\n",
       " 32,\n",
       " 55,\n",
       " 30,\n",
       " 31,\n",
       " 24,\n",
       " 28,\n",
       " 27,\n",
       " 36,\n",
       " 27,\n",
       " 25,\n",
       " 28,\n",
       " 23,\n",
       " 25]"
      ]
     },
     "execution_count": 34,
     "metadata": {},
     "output_type": "execute_result"
    }
   ],
   "source": [
    "m[:30]"
   ]
  },
  {
   "cell_type": "code",
   "execution_count": 40,
   "metadata": {},
   "outputs": [],
   "source": [
    "import glob\n",
    "x = glob.glob(\"/maiziezhou_lab5/CanLuo/long_reads_project/Paper_Revision/NC_2024_03_22-06_10/SD_Recovery/CLR_L1/Volcano-asm_flye/cromwell-executions/FlaggerEndToEndNoVariantCallingNoRefNoSecphase/c578fb13-c2c4-408c-b394-13a59fcad725/call-flagger/runFlagger/10ef8b24-a577-43a0-839d-f4315387d46b/call-pdfGenerator/execution/tables/minimap2_NA24385_Pacbio_CLR_SRX7668835_contig_MD.corrected.PS99730780_99712353_100916098_hp2_0*\")\n",
    "\n"
   ]
  },
  {
   "cell_type": "code",
   "execution_count": 50,
   "metadata": {},
   "outputs": [],
   "source": [
    "m_list = []\n",
    "s_list = []\n",
    "ms_list = []\n",
    "for a in x:\n",
    "\tdf = pd.read_csv(a, sep = '\\t')\n",
    "\tb = int(a.split('.')[-2].split('_')[-2])\n",
    "\tc = int(a.split('.')[-2].split('_')[-1])\n",
    "\ts = c - b + 1\n",
    "\tm = sum(df['collapsed']*df['fit'])/sum(df['fit'])\n",
    "\tm_list.append(m)\n",
    "\ts_list.append(s)\n",
    "\tms_list.append(m*s)"
   ]
  },
  {
   "cell_type": "code",
   "execution_count": 51,
   "metadata": {},
   "outputs": [
    {
     "data": {
      "text/plain": [
       "[0.0, 0.0, 0.0, 0.7717053249420037, 0.0, 0.0, 0.0, 0.0]"
      ]
     },
     "execution_count": 51,
     "metadata": {},
     "output_type": "execute_result"
    }
   ],
   "source": [
    "m_list"
   ]
  },
  {
   "cell_type": "code",
   "execution_count": 58,
   "metadata": {},
   "outputs": [
    {
     "data": {
      "text/plain": [
       "-113211"
      ]
     },
     "execution_count": 58,
     "metadata": {},
     "output_type": "execute_result"
    }
   ],
   "source": [
    "786789-900000"
   ]
  },
  {
   "cell_type": "code",
   "execution_count": 52,
   "metadata": {},
   "outputs": [
    {
     "data": {
      "text/plain": [
       "[150000, 150000, 150000, 150000, 299012, 150000, 150000, 150000]"
      ]
     },
     "execution_count": 52,
     "metadata": {},
     "output_type": "execute_result"
    }
   ],
   "source": [
    "s_list"
   ]
  },
  {
   "cell_type": "code",
   "execution_count": 57,
   "metadata": {},
   "outputs": [
    {
     "data": {
      "text/plain": [
       "[0.0, 0.0, 0.0, 115755.79874130056, 0.0, 0.0, 0.0, 0.0]"
      ]
     },
     "execution_count": 57,
     "metadata": {},
     "output_type": "execute_result"
    }
   ],
   "source": [
    "ms_list"
   ]
  },
  {
   "cell_type": "code",
   "execution_count": null,
   "metadata": {},
   "outputs": [],
   "source": []
  },
  {
   "cell_type": "code",
   "execution_count": 35,
   "metadata": {},
   "outputs": [
    {
     "data": {
      "text/plain": [
       "28.996913580246915"
      ]
     },
     "execution_count": 35,
     "metadata": {},
     "output_type": "execute_result"
    }
   ],
   "source": [
    "sum(m)/len(m)"
   ]
  },
  {
   "cell_type": "code",
   "execution_count": 25,
   "metadata": {},
   "outputs": [
    {
     "data": {
      "text/plain": [
       "52.59584980237154"
      ]
     },
     "execution_count": 25,
     "metadata": {},
     "output_type": "execute_result"
    }
   ],
   "source": [
    "sum(m)/len(m)"
   ]
  },
  {
   "cell_type": "code",
   "execution_count": 36,
   "metadata": {},
   "outputs": [],
   "source": [
    "in_file = \"/maiziezhou_lab5/CanLuo/long_reads_project/Paper_Revision/NC_2024_03_22-06_10/SD_Recovery/ONT_L1/VolcanoSV_Flye/Run1/cromwell-executions/FlaggerEndToEndNoVariantCallingNoRefNoSecphase/b5cb37f1-d050-4ecc-852e-c829545ff5f2/call-flagger/runFlagger/c05cbec1-f952-4b8b-9aab-0398e545b4e2/call-pdfGenerator/inputs/2141749187/NA24385_Oxford_Nanopore_PRJNA678534_MD.corrected.table\"\n",
    "df = pd.read_csv(in_file, sep = '\\t')"
   ]
  },
  {
   "cell_type": "code",
   "execution_count": 37,
   "metadata": {},
   "outputs": [],
   "source": [
    "a = df['freq']\n",
    "b = df['fit']\n",
    "c = df['fit'] * df['collapsed']"
   ]
  },
  {
   "cell_type": "code",
   "execution_count": 38,
   "metadata": {},
   "outputs": [
    {
     "data": {
      "text/plain": [
       "35"
      ]
     },
     "execution_count": 38,
     "metadata": {},
     "output_type": "execute_result"
    }
   ],
   "source": [
    "np.argmax(c)"
   ]
  },
  {
   "cell_type": "code",
   "execution_count": 30,
   "metadata": {},
   "outputs": [
    {
     "data": {
      "text/plain": [
       "(7, 7)"
      ]
     },
     "execution_count": 30,
     "metadata": {},
     "output_type": "execute_result"
    }
   ],
   "source": [
    "np.argmax(a),np.argmax(b)"
   ]
  },
  {
   "cell_type": "code",
   "execution_count": null,
   "metadata": {},
   "outputs": [],
   "source": []
  }
 ],
 "metadata": {
  "kernelspec": {
   "display_name": "volcano",
   "language": "python",
   "name": "python3"
  },
  "language_info": {
   "codemirror_mode": {
    "name": "ipython",
    "version": 3
   },
   "file_extension": ".py",
   "mimetype": "text/x-python",
   "name": "python",
   "nbconvert_exporter": "python",
   "pygments_lexer": "ipython3",
   "version": "3.8.3"
  }
 },
 "nbformat": 4,
 "nbformat_minor": 2
}
